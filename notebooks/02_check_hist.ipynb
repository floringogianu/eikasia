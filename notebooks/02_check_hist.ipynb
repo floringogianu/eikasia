{
 "cells": [
  {
   "cell_type": "code",
   "execution_count": 1,
   "id": "34462400-5355-49bb-ad93-ce9f25b90d64",
   "metadata": {},
   "outputs": [],
   "source": [
    "import sys\n",
    "sys.path.append(\"../\")"
   ]
  },
  {
   "cell_type": "code",
   "execution_count": 32,
   "id": "8748374d-a623-48d9-b2d4-d7edf6783620",
   "metadata": {},
   "outputs": [],
   "source": [
    "import cv2\n",
    "import kornia as korn\n",
    "import numpy as np\n",
    "from PIL import Image\n",
    "\n",
    "import torch\n",
    "import torchvision.transforms as T\n",
    "from torchvision.utils import make_grid\n",
    "\n",
    "from common.ale import ALE"
   ]
  },
  {
   "cell_type": "code",
   "execution_count": 34,
   "id": "e10cf557-f27b-4d64-ab23-66ada3735156",
   "metadata": {},
   "outputs": [
    {
     "data": {
      "text/plain": [
       "\u001b[0;31mDocstring:\u001b[0m\n",
       "resize(src, dsize[, dst[, fx[, fy[, interpolation]]]]) -> dst\n",
       ".   @brief Resizes an image.\n",
       ".   \n",
       ".   The function resize resizes the image src down to or up to the specified size. Note that the\n",
       ".   initial dst type or size are not taken into account. Instead, the size and type are derived from\n",
       ".   the `src`,`dsize`,`fx`, and `fy`. If you want to resize src so that it fits the pre-created dst,\n",
       ".   you may call the function as follows:\n",
       ".   @code\n",
       ".       // explicitly specify dsize=dst.size(); fx and fy will be computed from that.\n",
       ".       resize(src, dst, dst.size(), 0, 0, interpolation);\n",
       ".   @endcode\n",
       ".   If you want to decimate the image by factor of 2 in each direction, you can call the function this\n",
       ".   way:\n",
       ".   @code\n",
       ".       // specify fx and fy and let the function compute the destination image size.\n",
       ".       resize(src, dst, Size(), 0.5, 0.5, interpolation);\n",
       ".   @endcode\n",
       ".   To shrink an image, it will generally look best with #INTER_AREA interpolation, whereas to\n",
       ".   enlarge an image, it will generally look best with #INTER_CUBIC (slow) or #INTER_LINEAR\n",
       ".   (faster but still looks OK).\n",
       ".   \n",
       ".   @param src input image.\n",
       ".   @param dst output image; it has the size dsize (when it is non-zero) or the size computed from\n",
       ".   src.size(), fx, and fy; the type of dst is the same as of src.\n",
       ".   @param dsize output image size; if it equals zero (`None` in Python), it is computed as:\n",
       ".    \\f[\\texttt{dsize = Size(round(fx*src.cols), round(fy*src.rows))}\\f]\n",
       ".    Either dsize or both fx and fy must be non-zero.\n",
       ".   @param fx scale factor along the horizontal axis; when it equals 0, it is computed as\n",
       ".   \\f[\\texttt{(double)dsize.width/src.cols}\\f]\n",
       ".   @param fy scale factor along the vertical axis; when it equals 0, it is computed as\n",
       ".   \\f[\\texttt{(double)dsize.height/src.rows}\\f]\n",
       ".   @param interpolation interpolation method, see #InterpolationFlags\n",
       ".   \n",
       ".   @sa  warpAffine, warpPerspective, remap\n",
       "\u001b[0;31mType:\u001b[0m      builtin_function_or_method\n"
      ]
     },
     "metadata": {},
     "output_type": "display_data"
    }
   ],
   "source": [
    "cv2.INTER_"
   ]
  },
  {
   "cell_type": "code",
   "execution_count": 68,
   "id": "9c7919cb-7b5d-49b7-8ba1-2cc6a4871ff6",
   "metadata": {},
   "outputs": [],
   "source": [
    "def th2pil(t):\n",
    "    t = t.squeeze()\n",
    "    t = t.permute(1, 2, 0) if t.ndim == 3 else t\n",
    "    np_im = t.numpy().astype(np.uint8)\n",
    "    np_im = cv2.resize(np_im, None, fx = 2, fy = 2, interpolation=cv2.INTER_NEAREST)\n",
    "    return Image.fromarray(np_im)"
   ]
  },
  {
   "cell_type": "code",
   "execution_count": 69,
   "id": "0d8b51c5-aedd-42a3-8b29-6c1b37b1fc2e",
   "metadata": {},
   "outputs": [],
   "source": []
  },
  {
   "cell_type": "code",
   "execution_count": 70,
   "id": "d134aee2-336d-4676-b77c-c6da9c7a56e8",
   "metadata": {},
   "outputs": [],
   "source": []
  },
  {
   "cell_type": "code",
   "execution_count": 87,
   "id": "a148eee8-ea79-470f-ba74-43c85eb25960",
   "metadata": {},
   "outputs": [
    {
     "data": {
      "image/png": "[encoded data removed]",
      "text/plain": [
       "<PIL.Image.Image image mode=L size=168x168>"
      ]
     },
     "metadata": {},
     "output_type": "display_data"
    },
    {
     "data": {
      "image/png": "[encoded data removed]",
      "text/plain": [
       "<PIL.Image.Image image mode=RGB size=692x176>"
      ]
     },
     "metadata": {},
     "output_type": "display_data"
    },
    {
     "data": {
      "image/png": "[encoded data removed]",
      "text/plain": [
       "<PIL.Image.Image image mode=L size=168x168>"
      ]
     },
     "metadata": {},
     "output_type": "display_data"
    },
    {
     "data": {
      "image/png": "[encoded data removed]",
      "text/plain": [
       "<PIL.Image.Image image mode=RGB size=692x176>"
      ]
     },
     "metadata": {},
     "output_type": "display_data"
    },
    {
     "data": {
      "image/png": "[encoded data removed]",
      "text/plain": [
       "<PIL.Image.Image image mode=L size=168x168>"
      ]
     },
     "metadata": {},
     "output_type": "display_data"
    },
    {
     "data": {
      "image/png": "[encoded data removed]",
      "text/plain": [
       "<PIL.Image.Image image mode=RGB size=692x176>"
      ]
     },
     "metadata": {},
     "output_type": "display_data"
    }
   ],
   "source": [
    "game = \"SpaceInvaders\"\n",
    "env1 = ALE(game, 42, \"cpu\", obs_dims=(84,84), obs_mode=\"L\")\n",
    "env4 = ALE(game, 42, \"cpu\", obs_dims=(84,84), obs_mode=\"L\", history_length=4)\n",
    "\n",
    "o1 = env1.reset()\n",
    "o4 = env4.reset()\n",
    "\n",
    "for _ in range(3):\n",
    "        \n",
    "    display(th2pil(o1))\n",
    "    display(th2pil(make_grid(o4.squeeze(0))))\n",
    "    \n",
    "    a = int(np.random.choice(list(env.actions.keys())))\n",
    "    o1, _, d, _ = env1.step(a)\n",
    "    o4, _, d, _ = env4.step(a)"
   ]
  },
  {
   "cell_type": "code",
   "execution_count": 72,
   "id": "dcde68ea-86ff-4011-b304-fc7bdca98e47",
   "metadata": {},
   "outputs": [
    {
     "data": {
      "image/png": "[encoded data removed]",
      "text/plain": [
       "<PIL.Image.Image image mode=L size=168x168>"
      ]
     },
     "execution_count": 72,
     "metadata": {},
     "output_type": "execute_result"
    }
   ],
   "source": []
  },
  {
   "cell_type": "code",
   "execution_count": null,
   "id": "9cf5cef2-9456-48ed-ab59-cc11098fcbb6",
   "metadata": {},
   "outputs": [],
   "source": []
  }
 ],
 "metadata": {
  "kernelspec": {
   "display_name": "Python 3 (ipykernel)",
   "language": "python",
   "name": "python3"
  },
  "language_info": {
   "codemirror_mode": {
    "name": "ipython",
    "version": 3
   },
   "file_extension": ".py",
   "mimetype": "text/x-python",
   "name": "python",
   "nbconvert_exporter": "python",
   "pygments_lexer": "ipython3",
   "version": "3.10.6"
  }
 },
 "nbformat": 4,
 "nbformat_minor": 5
}
