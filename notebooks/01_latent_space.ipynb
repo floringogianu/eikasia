{
 "cells": [
  {
   "cell_type": "code",
   "execution_count": 1,
   "id": "ee2312b8-e37e-461d-ae23-b0378f406883",
   "metadata": {},
   "outputs": [],
   "source": [
    "import sys\n",
    "sys.path.append(\"../\")\n",
    "\n",
    "from collections import OrderedDict\n",
    "\n",
    "import kornia as korn\n",
    "import numpy as np\n",
    "from PIL import Image\n",
    "\n",
    "import torch\n",
    "import torchvision.transforms as T\n",
    "from torchvision.utils import make_grid\n",
    "\n",
    "from ul.nets import WMEncoder\n",
    "from ul.data_loading import get_atari"
   ]
  },
  {
   "cell_type": "code",
   "execution_count": 2,
   "id": "b6042b53-b8f9-4631-9244-f391b59c9360",
   "metadata": {},
   "outputs": [],
   "source": [
    "def th2pil(t):\n",
    "    t = t.squeeze().permute(1, 2, 0) * 255\n",
    "    return Image.fromarray(t.numpy().astype(np.uint8))"
   ]
  },
  {
   "cell_type": "code",
   "execution_count": 4,
   "id": "404f97b4-9024-4d40-9254-eb29f31dcf80",
   "metadata": {},
   "outputs": [
    {
     "data": {
      "text/plain": [
       "<All keys matched successfully>"
      ]
     },
     "execution_count": 4,
     "metadata": {},
     "output_type": "execute_result"
    }
   ],
   "source": [
    "ckpt = torch.load(\"../results/2022Sep01-203054_6games/0000_atari--dev/0/model_1500000.pkl\")\n",
    "ckpt = OrderedDict({\".\".join(k.split(\".\")[1:]):v for k,v in ckpt[\"model\"].items() if \"encoder\" in k})\n",
    "\n",
    "enc = WMEncoder(3, z_ch=8)\n",
    "enc.load_state_dict(ckpt)"
   ]
  },
  {
   "cell_type": "code",
   "execution_count": 16,
   "id": "31f6c84f-581a-40cf-bb53-dc9ed2a481ff",
   "metadata": {},
   "outputs": [],
   "source": [
    "dset = iter(get_atari(\"../data/6games/{0235..0300}.tar\"))"
   ]
  },
  {
   "cell_type": "code",
   "execution_count": 55,
   "id": "6e700a0c-cca6-4ea0-913b-e0be1045aade",
   "metadata": {},
   "outputs": [],
   "source": [
    "x, sample = next(dset)"
   ]
  },
  {
   "cell_type": "code",
   "execution_count": 56,
   "id": "a973a8d2-c49b-476b-8763-f537a6104d76",
   "metadata": {},
   "outputs": [
    {
     "data": {
      "image/png": "[encoded data removed]",
      "text/plain": [
       "<PIL.Image.Image image mode=RGB size=96x96>"
      ]
     },
     "execution_count": 56,
     "metadata": {},
     "output_type": "execute_result"
    }
   ],
   "source": [
    "th2pil(x)"
   ]
  },
  {
   "cell_type": "code",
   "execution_count": 57,
   "id": "ae538203-d9e9-48b2-a4c4-ff06a400f8b3",
   "metadata": {},
   "outputs": [],
   "source": [
    "z = enc(x.unsqueeze(0)).view((8, 1, 16, 16)).detach()"
   ]
  },
  {
   "cell_type": "code",
   "execution_count": 58,
   "id": "ff0d5919-0dbc-4ab1-8915-185c60a43b58",
   "metadata": {},
   "outputs": [
    {
     "name": "stdout",
     "output_type": "stream",
     "text": [
      "tensor(-53.9745) tensor(44.8562)\n"
     ]
    }
   ],
   "source": [
    "print(z[:4].min(), z[:4].max())"
   ]
  },
  {
   "cell_type": "code",
   "execution_count": 46,
   "id": "8ca51ed5-8356-4b18-9f3b-c1b5391e9251",
   "metadata": {},
   "outputs": [],
   "source": [
    "z = enc(x.unsqueeze(0)).view((8, 1, 16, 16)).detach()\n",
    "zmin, zmax = z.min(), z.max()\n",
    "z = (z - zmin) / (zmax - zmin)"
   ]
  },
  {
   "cell_type": "code",
   "execution_count": 47,
   "id": "525a1d4f-7a11-4c78-8c73-e5a15d4781df",
   "metadata": {},
   "outputs": [],
   "source": [
    "stuff = torch.cat([\n",
    "    korn.geometry.rescale(x.unsqueeze(0), (2,2), interpolation='nearest'), \n",
    "    korn.geometry.rescale(z.expand(-1, 3, -1, -1), (12,12), interpolation='nearest')\n",
    "], dim=0)"
   ]
  },
  {
   "cell_type": "code",
   "execution_count": 48,
   "id": "cb34ce4a-1c74-43c1-ad73-d861361ddf01",
   "metadata": {},
   "outputs": [
    {
     "data": {
      "image/png": "[encoded data removed]",
      "text/plain": [
       "<PIL.Image.Image image mode=RGB size=972x390>"
      ]
     },
     "execution_count": 48,
     "metadata": {},
     "output_type": "execute_result"
    }
   ],
   "source": [
    "th2pil(make_grid(stuff, normalize=True, nrow=5))"
   ]
  },
  {
   "cell_type": "code",
   "execution_count": 212,
   "id": "3c9a585c-1225-402c-a5a2-f56712952d09",
   "metadata": {},
   "outputs": [
    {
     "data": {
      "text/plain": [
       "16.0"
      ]
     },
     "execution_count": 212,
     "metadata": {},
     "output_type": "execute_result"
    }
   ],
   "source": [
    "96 / 6"
   ]
  },
  {
   "cell_type": "code",
   "execution_count": null,
   "id": "0bfb882f-49ce-4848-b417-b067a6ba9c1f",
   "metadata": {},
   "outputs": [],
   "source": []
  }
 ],
 "metadata": {
  "kernelspec": {
   "display_name": "Python 3 (ipykernel)",
   "language": "python",
   "name": "python3"
  },
  "language_info": {
   "codemirror_mode": {
    "name": "ipython",
    "version": 3
   },
   "file_extension": ".py",
   "mimetype": "text/x-python",
   "name": "python",
   "nbconvert_exporter": "python",
   "pygments_lexer": "ipython3",
   "version": "3.10.6"
  }
 },
 "nbformat": 4,
 "nbformat_minor": 5
}
