{
 "cells": [
  {
   "cell_type": "code",
   "execution_count": 46,
   "id": "ee2312b8-e37e-461d-ae23-b0378f406883",
   "metadata": {},
   "outputs": [],
   "source": [
    "import sys\n",
    "sys.path.append(\"../\")\n",
    "\n",
    "from collections import OrderedDict\n",
    "\n",
    "import kornia as korn\n",
    "import numpy as np\n",
    "from PIL import Image\n",
    "\n",
    "import torch\n",
    "import torch.nn as nn\n",
    "import torch.nn.functional as F\n",
    "import torchvision.transforms as T\n",
    "from torchvision.utils import make_grid\n",
    "\n",
    "#from ul.nets import WMEncoder\n",
    "from ul.data_loading import get_atari\n",
    "from common.ale import ALE"
   ]
  },
  {
   "cell_type": "code",
   "execution_count": 2,
   "id": "69e145de-010c-40e1-99c2-9b7de09ced2b",
   "metadata": {},
   "outputs": [],
   "source": [
    "class Encoder(nn.Module):\n",
    "    \"\"\"WorldModels/Dreamer/DreamerV2 -ish encoder.\"\"\"\n",
    "\n",
    "    def __init__(\n",
    "        self, inp_ch, num_layers=5, base_width=48, z_ch=4, max_width=512, **kwargs\n",
    "    ):\n",
    "        super().__init__()\n",
    "\n",
    "        self.layers = nn.ModuleList()\n",
    "        for i in range(num_layers):\n",
    "            out_ch = min(2**i * base_width, max_width)\n",
    "            self.layers.append(\n",
    "                nn.Conv2d(\n",
    "                    inp_ch,\n",
    "                    out_ch,\n",
    "                    kernel_size=4 if i <= 1 else 3,\n",
    "                    stride=2 if i <= 1 else 1,\n",
    "                )\n",
    "            )\n",
    "            inp_ch = out_ch\n",
    "        self.layers.append(nn.Conv2d(inp_ch, z_ch, 1, 1))\n",
    "\n",
    "    def forward(self, x):\n",
    "        for m in self.layers[:-1]:\n",
    "            x = F.relu(m(x))\n",
    "        return self.layers[-1](x)\n",
    "\n",
    "\n",
    "class Decoder(nn.Module):\n",
    "    \"\"\"WorldModels/Dreamer/DreamerV2 -ish decoder.\"\"\"\n",
    "\n",
    "    def __init__(\n",
    "        self, out_ch, num_layers=5, base_width=32, z_ch=4, max_width=256, **kwargs\n",
    "    ):\n",
    "        super().__init__()\n",
    "\n",
    "        self.layers = nn.ModuleList()\n",
    "\n",
    "        out_ch_ = min(2 ** (num_layers - 1) * base_width, max_width)\n",
    "        self.layers.append(nn.Conv2d(z_ch, out_ch_, 1, 1))\n",
    "        z_ch = out_ch_\n",
    "\n",
    "        ks = [(8, 1), (8, 1), (7, 1), (6, 2), (6, 2)]\n",
    "        # ks = [(7, 1), (7, 1), (6, 2), (6, 2)]\n",
    "        for i in range(num_layers - 1, -1, -1):\n",
    "\n",
    "            k, s = ks[i]\n",
    "            out_ch_ = min(2 ** (i - 1) * base_width, max_width)\n",
    "\n",
    "            self.layers.append(\n",
    "                nn.ConvTranspose2d(\n",
    "                    z_ch,\n",
    "                    out_ch if i == 0 else out_ch_,\n",
    "                    kernel_size=k,\n",
    "                    stride=s,\n",
    "                )\n",
    "            )\n",
    "            z_ch = out_ch_\n",
    "\n",
    "    def forward(self, x):\n",
    "        for m in self.layers[:-1]:\n",
    "            x = F.relu(m(x))\n",
    "        return self.layers[-1](x)\n",
    "\n",
    "    def mode(self):\n",
    "        return self.mean"
   ]
  },
  {
   "cell_type": "code",
   "execution_count": 3,
   "id": "b6042b53-b8f9-4631-9244-f391b59c9360",
   "metadata": {},
   "outputs": [],
   "source": [
    "def th2pil(t):\n",
    "    t = t.squeeze().permute(1, 2, 0) * 255\n",
    "    return Image.fromarray(t.numpy().astype(np.uint8))"
   ]
  },
  {
   "cell_type": "code",
   "execution_count": 32,
   "id": "9659c33a-d2be-4871-8497-109a1a076500",
   "metadata": {},
   "outputs": [],
   "source": [
    "def _normalize(x):\n",
    "    _min, _max = x.min(), x.max()\n",
    "    return (x - _min) / (_max - _min)"
   ]
  },
  {
   "cell_type": "code",
   "execution_count": 13,
   "id": "404f97b4-9024-4d40-9254-eb29f31dcf80",
   "metadata": {},
   "outputs": [
    {
     "data": {
      "text/plain": [
       "<All keys matched successfully>"
      ]
     },
     "execution_count": 13,
     "metadata": {},
     "output_type": "execute_result"
    }
   ],
   "source": [
    "enc = Encoder(3, z_ch=8, group_norm=False)\n",
    "dec = Decoder(3)\n",
    "\n",
    "ckpt = torch.load(\"../results/2022Sep01-203054_6games/0000_atari--dev/0/model_1500000.pkl\")\n",
    "enc_state = OrderedDict({\".\".join(k.split(\".\")[1:]):v for k,v in ckpt[\"model\"].items() if \"encoder\" in k})\n",
    "dec_state = OrderedDict({\".\".join(k.split(\".\")[1:]):v for k,v in ckpt[\"model\"].items() if \"decoder\" in k})\n",
    "\n",
    "enc.load_state_dict(enc_state)\n",
    "dec.load_state_dict(dec_state)"
   ]
  },
  {
   "cell_type": "markdown",
   "id": "29ac3187-6161-456c-b921-84ff61883efa",
   "metadata": {},
   "source": [
    "## Load data"
   ]
  },
  {
   "cell_type": "code",
   "execution_count": 14,
   "id": "31f6c84f-581a-40cf-bb53-dc9ed2a481ff",
   "metadata": {},
   "outputs": [],
   "source": [
    "dset = iter(get_atari(\"../data/6games/{0235..0300}.tar\"))"
   ]
  },
  {
   "cell_type": "code",
   "execution_count": 42,
   "id": "6e700a0c-cca6-4ea0-913b-e0be1045aade",
   "metadata": {},
   "outputs": [],
   "source": [
    "x, sample = next(dset)"
   ]
  },
  {
   "cell_type": "code",
   "execution_count": 43,
   "id": "a973a8d2-c49b-476b-8763-f537a6104d76",
   "metadata": {},
   "outputs": [
    {
     "data": {
      "image/png": "[encoded data removed]",
      "text/plain": [
       "<PIL.Image.Image image mode=RGB size=96x96>"
      ]
     },
     "execution_count": 43,
     "metadata": {},
     "output_type": "execute_result"
    }
   ],
   "source": [
    "th2pil(x)"
   ]
  },
  {
   "cell_type": "markdown",
   "id": "7f4a7992-3114-4ef4-8954-74b309d1ae10",
   "metadata": {},
   "source": [
    "## Attempt decoding"
   ]
  },
  {
   "cell_type": "code",
   "execution_count": 55,
   "id": "ae538203-d9e9-48b2-a4c4-ff06a400f8b3",
   "metadata": {},
   "outputs": [
    {
     "name": "stdout",
     "output_type": "stream",
     "text": [
      "tensor(-0.0655) tensor(1.0091)\n"
     ]
    }
   ],
   "source": [
    "z = enc(x.unsqueeze(0)).detach()\n",
    "x_ = dec(z[:, :4]).detach()\n",
    "print(x_[:4].min(), x_[:4].max())"
   ]
  },
  {
   "cell_type": "code",
   "execution_count": 56,
   "id": "159f219b-0695-4368-97c0-d3300c338542",
   "metadata": {},
   "outputs": [
    {
     "data": {
      "image/png": "[encoded data removed]",
      "text/plain": [
       "<PIL.Image.Image image mode=RGB size=96x96>"
      ]
     },
     "execution_count": 56,
     "metadata": {},
     "output_type": "execute_result"
    }
   ],
   "source": [
    "th2pil(_normalize(x_))"
   ]
  },
  {
   "cell_type": "markdown",
   "id": "2179f19d-fd5b-4511-94e1-b3ce56440c13",
   "metadata": {},
   "source": [
    "### Also check from Atari"
   ]
  },
  {
   "cell_type": "code",
   "execution_count": 52,
   "id": "d080dd16-1d4c-48db-9598-8b5aa197acc2",
   "metadata": {},
   "outputs": [
    {
     "name": "stderr",
     "output_type": "stream",
     "text": [
      "A.L.E: Arcade Learning Environment (version 0.7.5+db37282)\n",
      "[Powered by Stella]\n"
     ]
    }
   ],
   "source": [
    "env1 = ALE(\"SpaceInvaders\", 42, \"cpu\", obs_dims=(96,96), obs_mode=\"RGB\")"
   ]
  },
  {
   "cell_type": "code",
   "execution_count": 76,
   "id": "0d467c81-4a89-45e1-91d2-b89d11abec7e",
   "metadata": {},
   "outputs": [],
   "source": [
    "o = env1.reset()\n",
    "for _ in range(200):\n",
    "    o, r, d, _ = env1.step(env1.action_space.sample())\n",
    "    if d:\n",
    "        print(\"resetting\")\n",
    "        o = env1.reset()"
   ]
  },
  {
   "cell_type": "code",
   "execution_count": 77,
   "id": "b8c14542-a2b4-4a26-b4c2-d7216c7b48f5",
   "metadata": {},
   "outputs": [
    {
     "name": "stdout",
     "output_type": "stream",
     "text": [
      "tensor(0, dtype=torch.uint8) tensor(181, dtype=torch.uint8)\n"
     ]
    }
   ],
   "source": [
    "print(o.min(), o.max())\n",
    "o = o.float().div(255).squeeze(1)"
   ]
  },
  {
   "cell_type": "code",
   "execution_count": 78,
   "id": "e25ae38d-7721-407d-b256-e24dbf231d05",
   "metadata": {},
   "outputs": [
    {
     "data": {
      "image/png": "[encoded data removed]",
      "text/plain": [
       "<PIL.Image.Image image mode=RGB size=96x96>"
      ]
     },
     "execution_count": 78,
     "metadata": {},
     "output_type": "execute_result"
    }
   ],
   "source": [
    "th2pil(o)"
   ]
  },
  {
   "cell_type": "code",
   "execution_count": 79,
   "id": "ac30e9ff-4e93-4a38-99bd-2d56464a9242",
   "metadata": {},
   "outputs": [
    {
     "name": "stdout",
     "output_type": "stream",
     "text": [
      "tensor(-0.0895) tensor(0.8203)\n"
     ]
    }
   ],
   "source": [
    "z = enc(o).detach()\n",
    "o_ = dec(z[:, :4]).detach()\n",
    "print(o_[:4].min(), o_[:4].max())"
   ]
  },
  {
   "cell_type": "code",
   "execution_count": 80,
   "id": "92f4421a-cab5-456e-8e98-bf49e24e4717",
   "metadata": {},
   "outputs": [
    {
     "data": {
      "image/png": "[encoded data removed]",
      "text/plain": [
       "<PIL.Image.Image image mode=RGB size=96x96>"
      ]
     },
     "execution_count": 80,
     "metadata": {},
     "output_type": "execute_result"
    }
   ],
   "source": [
    "th2pil(_normalize(o_))"
   ]
  },
  {
   "cell_type": "markdown",
   "id": "629f4776-22cc-47c6-b6fc-fbd45a96b174",
   "metadata": {},
   "source": [
    "## Vizualize latents"
   ]
  },
  {
   "cell_type": "code",
   "execution_count": 49,
   "id": "8ca51ed5-8356-4b18-9f3b-c1b5391e9251",
   "metadata": {},
   "outputs": [],
   "source": [
    "z = enc(x.unsqueeze(0)).view((8, 1, 16, 16)).detach()\n",
    "z = _normalize(z)"
   ]
  },
  {
   "cell_type": "code",
   "execution_count": 48,
   "id": "ff0d5919-0dbc-4ab1-8915-185c60a43b58",
   "metadata": {},
   "outputs": [
    {
     "name": "stdout",
     "output_type": "stream",
     "text": [
      "tensor(-43.4660) tensor(45.6019)\n"
     ]
    }
   ],
   "source": [
    "print(z[:4].min(), z[:4].max())"
   ]
  },
  {
   "cell_type": "code",
   "execution_count": 50,
   "id": "525a1d4f-7a11-4c78-8c73-e5a15d4781df",
   "metadata": {},
   "outputs": [],
   "source": [
    "stuff = torch.cat([\n",
    "    korn.geometry.rescale(x.unsqueeze(0), (2,2), interpolation='nearest'), \n",
    "    korn.geometry.rescale(z.expand(-1, 3, -1, -1), (12,12), interpolation='nearest')\n",
    "], dim=0)"
   ]
  },
  {
   "cell_type": "code",
   "execution_count": 51,
   "id": "cb34ce4a-1c74-43c1-ad73-d861361ddf01",
   "metadata": {},
   "outputs": [
    {
     "data": {
      "image/png": "[encoded data removed]",
      "text/plain": [
       "<PIL.Image.Image image mode=RGB size=972x390>"
      ]
     },
     "execution_count": 51,
     "metadata": {},
     "output_type": "execute_result"
    }
   ],
   "source": [
    "th2pil(make_grid(stuff, normalize=True, nrow=5))"
   ]
  },
  {
   "cell_type": "code",
   "execution_count": 212,
   "id": "3c9a585c-1225-402c-a5a2-f56712952d09",
   "metadata": {},
   "outputs": [
    {
     "data": {
      "text/plain": [
       "16.0"
      ]
     },
     "execution_count": 212,
     "metadata": {},
     "output_type": "execute_result"
    }
   ],
   "source": []
  },
  {
   "cell_type": "code",
   "execution_count": null,
   "id": "0bfb882f-49ce-4848-b417-b067a6ba9c1f",
   "metadata": {},
   "outputs": [],
   "source": []
  }
 ],
 "metadata": {
  "kernelspec": {
   "display_name": "Python 3 (ipykernel)",
   "language": "python",
   "name": "python3"
  },
  "language_info": {
   "codemirror_mode": {
    "name": "ipython",
    "version": 3
   },
   "file_extension": ".py",
   "mimetype": "text/x-python",
   "name": "python",
   "nbconvert_exporter": "python",
   "pygments_lexer": "ipython3",
   "version": "3.10.6"
  }
 },
 "nbformat": 4,
 "nbformat_minor": 5
}
